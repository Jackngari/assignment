{
  "nbformat": 4,
  "nbformat_minor": 0,
  "metadata": {
    "colab": {
      "name": "Dictionary.ipynb",
      "provenance": [],
      "authorship_tag": "ABX9TyNIEYp5NCWKSCCfyFV5CFy+",
      "include_colab_link": true
    },
    "kernelspec": {
      "name": "python3",
      "display_name": "Python 3"
    },
    "language_info": {
      "name": "python"
    }
  },
  "cells": [
    {
      "cell_type": "markdown",
      "metadata": {
        "id": "view-in-github",
        "colab_type": "text"
      },
      "source": [
        "<a href=\"https://colab.research.google.com/github/Jackngari/assignment/blob/main/Dictionary.ipynb\" target=\"_parent\"><img src=\"https://colab.research.google.com/assets/colab-badge.svg\" alt=\"Open In Colab\"/></a>"
      ]
    },
    {
      "cell_type": "markdown",
      "metadata": {
        "id": "EtJHVCfghffr"
      },
      "source": [
        "**DICTIONARY**."
      ]
    },
    {
      "cell_type": "markdown",
      "metadata": {
        "id": "74aupRIKh0_t"
      },
      "source": [
        "Dictionary is a data structure that consists of a Key that is assigned a value,Keys are immutable data types that can be either strings or numbers.\n",
        "\n",
        "Dictionaries are used to store data values in key:value pairs.\n",
        "\n",
        "A dictionary is a collection which is ordered,changeable and does not allow duplicates.\n"
      ]
    },
    {
      "cell_type": "markdown",
      "metadata": {
        "id": "hgj9mjL-eeBw"
      },
      "source": [
        "We are going to create a dictionary named mega companies where it is represented by a pair of curly brackets containing \"Key\":\"value\"."
      ]
    },
    {
      "cell_type": "code",
      "metadata": {
        "id": "3o5uh5eJct_H"
      },
      "source": [
        "#Every key has a unique assigned value\n",
        "mega_companies={\"A\":\"Amazon\",\"M\":\"Microsoft\",\"T\":\"Tesla\"}"
      ],
      "execution_count": null,
      "outputs": []
    },
    {
      "cell_type": "code",
      "metadata": {
        "colab": {
          "base_uri": "https://localhost:8080/"
        },
        "id": "9HXAHWg_dhpT",
        "outputId": "010f33c3-4b3e-469a-fcb8-08b343f3283c"
      },
      "source": [
        "print(mega_companies)"
      ],
      "execution_count": null,
      "outputs": [
        {
          "output_type": "stream",
          "text": [
            "{'A': 'Amazon', 'M': 'Microsoft', 'T': 'Tesla'}\n"
          ],
          "name": "stdout"
        }
      ]
    },
    {
      "cell_type": "code",
      "metadata": {
        "colab": {
          "base_uri": "https://localhost:8080/"
        },
        "id": "jCptQ3bcDo5v",
        "outputId": "3f73a353-be82-48e4-ef95-270122dc6dce"
      },
      "source": [
        "type(mega_companies)"
      ],
      "execution_count": null,
      "outputs": [
        {
          "output_type": "execute_result",
          "data": {
            "text/plain": [
              "dict"
            ]
          },
          "metadata": {
            "tags": []
          },
          "execution_count": 31
        }
      ]
    },
    {
      "cell_type": "code",
      "metadata": {
        "id": "mKPO9bG5sBcT"
      },
      "source": [
        "#Values are mutable\n",
        "\n",
        "mega_companies={\"A\":\"Apple\",\"M\":\"Microsoft\",\"T\":\"Tesla\"}"
      ],
      "execution_count": null,
      "outputs": []
    },
    {
      "cell_type": "code",
      "metadata": {
        "id": "7vH1mzBZ0Bjr"
      },
      "source": [
        "mega_companies={\"A\":\"Android\",\"M\":\"Microsoft\",\"T\":\"Tesla\"}"
      ],
      "execution_count": null,
      "outputs": []
    },
    {
      "cell_type": "code",
      "metadata": {
        "colab": {
          "base_uri": "https://localhost:8080/"
        },
        "id": "fsp1GQVW0TRq",
        "outputId": "fa8861bb-488e-409d-b869-a32703ea18bb"
      },
      "source": [
        "print(mega_companies)"
      ],
      "execution_count": null,
      "outputs": [
        {
          "output_type": "stream",
          "text": [
            "{'A': 'Android', 'M': 'Microsoft', 'T': 'Tesla'}\n"
          ],
          "name": "stdout"
        }
      ]
    },
    {
      "cell_type": "code",
      "metadata": {
        "colab": {
          "base_uri": "https://localhost:8080/"
        },
        "id": "eIQ8BdAJsWnz",
        "outputId": "94f14f46-4f27-4798-dc94-0b68908832e9"
      },
      "source": [
        "mega_companies"
      ],
      "execution_count": null,
      "outputs": [
        {
          "output_type": "execute_result",
          "data": {
            "text/plain": [
              "{'A': 'Apple', 'M': 'Microsoft', 'T': 'Tesla'}"
            ]
          },
          "metadata": {
            "tags": []
          },
          "execution_count": 20
        }
      ]
    },
    {
      "cell_type": "markdown",
      "metadata": {
        "id": "EBR_qKS_fozH"
      },
      "source": [
        "Keys are immutable therefore they can't be defined as a list,let's see an example."
      ]
    },
    {
      "cell_type": "code",
      "metadata": {
        "colab": {
          "base_uri": "https://localhost:8080/",
          "height": 164
        },
        "id": "phgghF6bfxM_",
        "outputId": "b090ea79-b07b-424f-9afd-6dbbe597234a"
      },
      "source": [
        "Trillion_companies={[\"A\",\"B\",\"C\"]:\"Apple\",\"M\":\"Microsoft\",\"T\":\"Tesla\"}"
      ],
      "execution_count": null,
      "outputs": [
        {
          "output_type": "error",
          "ename": "TypeError",
          "evalue": "ignored",
          "traceback": [
            "\u001b[0;31m---------------------------------------------------------------------------\u001b[0m",
            "\u001b[0;31mTypeError\u001b[0m                                 Traceback (most recent call last)",
            "\u001b[0;32m<ipython-input-3-d07dc62631ef>\u001b[0m in \u001b[0;36m<module>\u001b[0;34m()\u001b[0m\n\u001b[0;32m----> 1\u001b[0;31m \u001b[0mTrillion_companies\u001b[0m\u001b[0;34m=\u001b[0m\u001b[0;34m{\u001b[0m\u001b[0;34m[\u001b[0m\u001b[0;34m\"A\"\u001b[0m\u001b[0;34m,\u001b[0m\u001b[0;34m\"B\"\u001b[0m\u001b[0;34m,\u001b[0m\u001b[0;34m\"C\"\u001b[0m\u001b[0;34m]\u001b[0m\u001b[0;34m:\u001b[0m\u001b[0;34m\"Apple\"\u001b[0m\u001b[0;34m,\u001b[0m\u001b[0;34m\"M\"\u001b[0m\u001b[0;34m:\u001b[0m\u001b[0;34m\"Microsoft\"\u001b[0m\u001b[0;34m,\u001b[0m\u001b[0;34m\"T\"\u001b[0m\u001b[0;34m:\u001b[0m\u001b[0;34m\"Tesla\"\u001b[0m\u001b[0;34m}\u001b[0m\u001b[0;34m\u001b[0m\u001b[0;34m\u001b[0m\u001b[0m\n\u001b[0m",
            "\u001b[0;31mTypeError\u001b[0m: unhashable type: 'list'"
          ]
        }
      ]
    },
    {
      "cell_type": "markdown",
      "metadata": {
        "id": "CLWlWG6_gTOh"
      },
      "source": [
        "From the above error,we notice that a Keys can't be mutable hence the error due to the fact that a list is mutable."
      ]
    },
    {
      "cell_type": "markdown",
      "metadata": {
        "id": "_LrMKlgLhkBe"
      },
      "source": [
        "***In order to access data of the dictionary we use .items() ***"
      ]
    },
    {
      "cell_type": "code",
      "metadata": {
        "colab": {
          "base_uri": "https://localhost:8080/"
        },
        "id": "dIiG5FrGhbhA",
        "outputId": "456575ee-6e07-4026-e375-f660992b9478"
      },
      "source": [
        "mega_companies.items()"
      ],
      "execution_count": null,
      "outputs": [
        {
          "output_type": "execute_result",
          "data": {
            "text/plain": [
              "dict_items([('A', 'Amazon'), ('M', 'Microsoft'), ('T', 'Tesla')])"
            ]
          },
          "metadata": {
            "tags": []
          },
          "execution_count": 4
        }
      ]
    },
    {
      "cell_type": "code",
      "metadata": {
        "colab": {
          "base_uri": "https://localhost:8080/"
        },
        "id": "q3w60G0QiEOb",
        "outputId": "77c11530-bf22-4bab-99ef-ebaf1af5a02f"
      },
      "source": [
        "#Accessing values only\n",
        "\n",
        "mega_companies.values()"
      ],
      "execution_count": null,
      "outputs": [
        {
          "output_type": "execute_result",
          "data": {
            "text/plain": [
              "dict_values(['Amazon', 'Microsoft', 'Tesla'])"
            ]
          },
          "metadata": {
            "tags": []
          },
          "execution_count": 5
        }
      ]
    },
    {
      "cell_type": "code",
      "metadata": {
        "colab": {
          "base_uri": "https://localhost:8080/"
        },
        "id": "S1xn4Jz_iPSr",
        "outputId": "11730312-102c-4431-c907-903605f65b9b"
      },
      "source": [
        "#Accessing Keys only\n",
        "mega_companies.keys()"
      ],
      "execution_count": null,
      "outputs": [
        {
          "output_type": "execute_result",
          "data": {
            "text/plain": [
              "dict_keys(['A', 'M', 'T'])"
            ]
          },
          "metadata": {
            "tags": []
          },
          "execution_count": 6
        }
      ]
    },
    {
      "cell_type": "code",
      "metadata": {
        "colab": {
          "base_uri": "https://localhost:8080/",
          "height": 35
        },
        "id": "NAJWL_p9iixY",
        "outputId": "79546d68-7015-42a8-bf6a-e230f1fd4d92"
      },
      "source": [
        "#Accessing value by defining keys as a parameter\n",
        "mega_companies['A']"
      ],
      "execution_count": null,
      "outputs": [
        {
          "output_type": "execute_result",
          "data": {
            "application/vnd.google.colaboratory.intrinsic+json": {
              "type": "string"
            },
            "text/plain": [
              "'Amazon'"
            ]
          },
          "metadata": {
            "tags": []
          },
          "execution_count": 7
        }
      ]
    },
    {
      "cell_type": "code",
      "metadata": {
        "colab": {
          "base_uri": "https://localhost:8080/"
        },
        "id": "9FGgLkEnvk-a",
        "outputId": "ec248acb-f2f2-4b64-bc9b-a78b100556e4"
      },
      "source": [
        "#To see the lenght of the dictionary\n",
        "print(len(mega_companies))"
      ],
      "execution_count": null,
      "outputs": [
        {
          "output_type": "stream",
          "text": [
            "3\n"
          ],
          "name": "stdout"
        }
      ]
    },
    {
      "cell_type": "markdown",
      "metadata": {
        "id": "e-d-yD_loNPA"
      },
      "source": [
        "Dictionary can be nested,meaning a dictionary instead a dictionary"
      ]
    },
    {
      "cell_type": "code",
      "metadata": {
        "id": "d3Bnbhb1nRgC"
      },
      "source": [
        "dictionary_nested = {\"datacamp\":{\"Deep Learning\": \"Python\", \"Machine Learning\": \"Pandas\"},\"linkedin\":\"jobs\",\"nvidia\":\"hardware\"}"
      ],
      "execution_count": null,
      "outputs": []
    },
    {
      "cell_type": "code",
      "metadata": {
        "colab": {
          "base_uri": "https://localhost:8080/"
        },
        "id": "hvw7yStMoJSJ",
        "outputId": "ccc6079a-ed17-4ec0-cb0d-a316ac964c8c"
      },
      "source": [
        "dictionary_nested"
      ],
      "execution_count": null,
      "outputs": [
        {
          "output_type": "execute_result",
          "data": {
            "text/plain": [
              "{'datacamp': {'Deep Learning': 'Python', 'Machine Learning': 'Pandas'},\n",
              " 'linkedin': 'jobs',\n",
              " 'nvidia': 'hardware'}"
            ]
          },
          "metadata": {
            "tags": []
          },
          "execution_count": 17
        }
      ]
    },
    {
      "cell_type": "markdown",
      "metadata": {
        "id": "MixRiHD0y8_x"
      },
      "source": [
        ""
      ]
    },
    {
      "cell_type": "code",
      "metadata": {
        "colab": {
          "base_uri": "https://localhost:8080/",
          "height": 35
        },
        "id": "0U748AUVoVsb",
        "outputId": "5709c7dd-000b-4dbf-eb90-e69f8ce97171"
      },
      "source": [
        "dictionary_nested['datacamp']['Machine Learning']"
      ],
      "execution_count": null,
      "outputs": [
        {
          "output_type": "execute_result",
          "data": {
            "application/vnd.google.colaboratory.intrinsic+json": {
              "type": "string"
            },
            "text/plain": [
              "'Pandas'"
            ]
          },
          "metadata": {
            "tags": []
          },
          "execution_count": 18
        }
      ]
    },
    {
      "cell_type": "markdown",
      "metadata": {
        "id": "xU9KqQWiy_P7"
      },
      "source": [
        "**SET**"
      ]
    },
    {
      "cell_type": "markdown",
      "metadata": {
        "id": "GdpLrpxEzD8y"
      },
      "source": [
        "Sets are unchangable,unordered and do not allow duplicate values"
      ]
    },
    {
      "cell_type": "markdown",
      "metadata": {
        "id": "JWlEkybv21vb"
      },
      "source": [
        "Sets are used to store multiple items in a single variable"
      ]
    },
    {
      "cell_type": "code",
      "metadata": {
        "id": "RxkbLXKV1a3_"
      },
      "source": [
        "sets = {\"apple\",\"microsoft\",\"Tesla\"}"
      ],
      "execution_count": null,
      "outputs": []
    },
    {
      "cell_type": "code",
      "metadata": {
        "colab": {
          "base_uri": "https://localhost:8080/"
        },
        "id": "wUxD5mXq1kVL",
        "outputId": "ce72c139-13d9-428e-dd55-15cc192fdd6a"
      },
      "source": [
        "print(sets)"
      ],
      "execution_count": null,
      "outputs": [
        {
          "output_type": "stream",
          "text": [
            "{'Tesla', 'microsoft', 'apple'}\n"
          ],
          "name": "stdout"
        }
      ]
    },
    {
      "cell_type": "markdown",
      "metadata": {
        "id": "5z6snDTQ-DM_"
      },
      "source": [
        "Here we noticed that data is displayed in a different order than what we have above."
      ]
    }
  ]
}